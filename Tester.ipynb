{
 "cells": [
  {
   "cell_type": "code",
   "execution_count": 1,
   "metadata": {},
   "outputs": [
    {
     "name": "stdout",
     "output_type": "stream",
     "text": [
      "A Could not be found\n",
      "B Could not be found\n",
      "C Could not be found\n",
      "C Could not be found\n",
      "A Could not be found\n",
      "A Could not be found\n",
      "B Could not be found\n",
      "C Could not be found\n",
      "C Could not be found\n",
      "A Could not be found\n",
      "A Could not be found\n",
      "B Could not be found\n",
      "A Could not be found\n",
      "B Could not be found\n",
      "B Could not be found\n",
      "A Could not be found\n",
      "C Could not be found\n",
      "B Could not be found\n",
      "B Could not be found\n",
      "C Could not be found\n",
      "B Could not be found\n",
      "C Could not be found\n",
      "A Could not be found\n",
      "A Could not be found\n",
      "A Could not be found\n",
      "C Could not be found\n",
      "C Could not be found\n",
      "C Could not be found\n",
      "A Could not be found\n",
      "B Could not be found\n",
      "A Could not be found\n",
      "B Could not be found\n",
      "B Could not be found\n",
      "A Could not be found\n",
      "C Could not be found\n",
      "B Could not be found\n",
      "B Could not be found\n",
      "C Could not be found\n",
      "B Could not be found\n",
      "C Could not be found\n",
      "A Could not be found\n",
      "A Could not be found\n",
      "A Could not be found\n",
      "C Could not be found\n",
      "C Could not be found\n",
      "C Could not be found\n"
     ]
    },
    {
     "data": {
      "text/plain": [
       "matrix([[2.46393029e+03],\n",
       "        [3.41462542e+03],\n",
       "        [5.21612074e+03],\n",
       "        [6.04296152e+03],\n",
       "        [5.08495139e+03],\n",
       "        [5.01490786e+03],\n",
       "        [1.46829987e+00],\n",
       "        [6.59318691e-01],\n",
       "        [1.01397409e+00],\n",
       "        [5.76847928e-01],\n",
       "        [2.19966394e+00],\n",
       "        [3.65080781e-01],\n",
       "        [1.29687519e+00],\n",
       "        [1.35202081e+00],\n",
       "        [4.92696649e-01],\n",
       "        [9.66072741e-01],\n",
       "        [1.26320067e+00],\n",
       "        [9.12319238e-01]])"
      ]
     },
     "execution_count": 1,
     "metadata": {},
     "output_type": "execute_result"
    }
   ],
   "source": [
    "import numpy as np\n",
    "\n",
    "from Angle import Angle\n",
    "from Distance import Distance\n",
    "from Net import Network\n",
    "d = Distance()\n",
    "a = Angle()\n",
    "n = Network([d,a])\n",
    "n.l_0"
   ]
  },
  {
   "cell_type": "code",
   "execution_count": 7,
   "metadata": {},
   "outputs": [
    {
     "data": {
      "text/plain": [
       "['P1_E', 'P1_N', 'P2_E', 'P2_N']"
      ]
     },
     "execution_count": 7,
     "metadata": {},
     "output_type": "execute_result"
    }
   ],
   "source": []
  },
  {
   "cell_type": "code",
   "execution_count": 11,
   "metadata": {},
   "outputs": [
    {
     "data": {
      "text/plain": [
       "matrix([[ 0.        ,  0.        , -0.8330353 ,  0.55321984]])"
      ]
     },
     "execution_count": 11,
     "metadata": {},
     "output_type": "execute_result"
    }
   ],
   "source": []
  },
  {
   "cell_type": "code",
   "execution_count": null,
   "metadata": {},
   "outputs": [],
   "source": []
  }
 ],
 "metadata": {
  "kernelspec": {
   "display_name": "Python 3",
   "language": "python",
   "name": "python3"
  },
  "language_info": {
   "codemirror_mode": {
    "name": "ipython",
    "version": 3
   },
   "file_extension": ".py",
   "mimetype": "text/x-python",
   "name": "python",
   "nbconvert_exporter": "python",
   "pygments_lexer": "ipython3",
   "version": "3.7.3"
  }
 },
 "nbformat": 4,
 "nbformat_minor": 4
}
