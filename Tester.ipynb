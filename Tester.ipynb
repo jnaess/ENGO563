{
 "cells": [
  {
   "cell_type": "code",
   "execution_count": 1,
   "metadata": {},
   "outputs": [
    {
     "name": "stdout",
     "output_type": "stream",
     "text": [
      "A Could not be found\n",
      "B Could not be found\n",
      "C Could not be found\n",
      "C Could not be found\n",
      "A Could not be found\n",
      "A Could not be found\n",
      "B Could not be found\n",
      "C Could not be found\n",
      "C Could not be found\n",
      "A Could not be found\n",
      "A Could not be found\n",
      "B Could not be found\n",
      "A Could not be found\n",
      "B Could not be found\n",
      "B Could not be found\n",
      "A Could not be found\n",
      "C Could not be found\n",
      "B Could not be found\n",
      "B Could not be found\n",
      "C Could not be found\n",
      "B Could not be found\n",
      "C Could not be found\n",
      "A Could not be found\n",
      "A Could not be found\n",
      "A Could not be found\n",
      "C Could not be found\n",
      "C Could not be found\n",
      "C Could not be found\n",
      "A Could not be found\n",
      "B Could not be found\n",
      "A Could not be found\n",
      "B Could not be found\n",
      "B Could not be found\n",
      "A Could not be found\n",
      "C Could not be found\n",
      "B Could not be found\n",
      "B Could not be found\n",
      "C Could not be found\n",
      "B Could not be found\n",
      "C Could not be found\n",
      "A Could not be found\n",
      "A Could not be found\n",
      "A Could not be found\n",
      "C Could not be found\n",
      "C Could not be found\n",
      "C Could not be found\n",
      "LSA passed in: 2 iterations\n"
     ]
    },
    {
     "data": {
      "text/plain": [
       "13.084066994164868"
      ]
     },
     "execution_count": 1,
     "metadata": {},
     "output_type": "execute_result"
    }
   ],
   "source": [
    "import numpy as np\n",
    "\n",
    "from Angle import Angle\n",
    "from Distance import Distance\n",
    "from Net import Network\n",
    "d = Distance()\n",
    "a = Angle()\n",
    "n = Network([d,a])\n",
    "n.a_post\n",
    "\n"
   ]
  },
  {
   "cell_type": "code",
   "execution_count": 2,
   "metadata": {},
   "outputs": [
    {
     "data": {
      "text/plain": [
       "matrix([[5657.45496022],\n",
       "        [2475.56992638],\n",
       "        [ 663.80876641],\n",
       "        [2945.45810303]])"
      ]
     },
     "execution_count": 2,
     "metadata": {},
     "output_type": "execute_result"
    }
   ],
   "source": [
    "n.x_0"
   ]
  },
  {
   "cell_type": "code",
   "execution_count": 2,
   "metadata": {},
   "outputs": [
    {
     "data": {
      "text/plain": [
       "13.084066994164868"
      ]
     },
     "execution_count": 2,
     "metadata": {},
     "output_type": "execute_result"
    }
   ],
   "source": [
    "n.a_post[0,0]"
   ]
  },
  {
   "cell_type": "code",
   "execution_count": null,
   "metadata": {},
   "outputs": [],
   "source": []
  }
 ],
 "metadata": {
  "kernelspec": {
   "display_name": "Python 3",
   "language": "python",
   "name": "python3"
  },
  "language_info": {
   "codemirror_mode": {
    "name": "ipython",
    "version": 3
   },
   "file_extension": ".py",
   "mimetype": "text/x-python",
   "name": "python",
   "nbconvert_exporter": "python",
   "pygments_lexer": "ipython3",
   "version": "3.7.3"
  }
 },
 "nbformat": 4,
 "nbformat_minor": 4
}
