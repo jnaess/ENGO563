{
 "cells": [
  {
   "cell_type": "code",
   "execution_count": 17,
   "metadata": {},
   "outputs": [
    {
     "name": "stdout",
     "output_type": "stream",
     "text": [
      "['P1', 'P2']\n",
      "[5656.89, 2475.56, 663.9, 2943.91]\n",
      "['A', 'B', 'C']\n",
      "[4899.844, 130.814, 8781.945, 1099.443, 4548.795, 7572.621999999999]\n"
     ]
    }
   ],
   "source": [
    "import math as m\n",
    "import numpy as np\n",
    "import pandas as pd\n",
    "\n",
    "df = pd.read_csv(\"coords.txt\", sep = ' ')\n",
    "#currently only formatted for 2D\n",
    "\n",
    "u_list = []\n",
    "x_0 = []\n",
    "c = []\n",
    "#pretty sure datums aren't actually used\n",
    "datums = []\n",
    "\n",
    "#assign values\n",
    "for index, row in df.iterrows():\n",
    "    #check if known or unknown\n",
    "    if row[3] == \"u\":\n",
    "        #unknown name\n",
    "        u_list.append(row[0]+\"_X\", row[0]+\"_Y\")\n",
    "        \n",
    "        #add unknown values in order of x, y\n",
    "        x_0.append(row[1])\n",
    "        x_0.append(row[2])\n",
    "    else: #then they are \"n\" --> knowns\n",
    "        #known name\n",
    "        datums.append(row[0]+\"_X\", row[0]+\"_Y\")\n",
    "        \n",
    "        #add known values in order of x, y\n",
    "        c.append(row[1])\n",
    "        c.append(row[2])"
   ]
  },
  {
   "cell_type": "code",
   "execution_count": 2,
   "metadata": {},
   "outputs": [
    {
     "data": {
      "text/plain": [
       "matrix([[4899.844],\n",
       "        [ 130.814],\n",
       "        [8781.945],\n",
       "        [1099.443],\n",
       "        [4548.795],\n",
       "        [7572.622]])"
      ]
     },
     "execution_count": 2,
     "metadata": {},
     "output_type": "execute_result"
    }
   ],
   "source": [
    "from LeastSquares import LS\n",
    "\n",
    "LS().c"
   ]
  },
  {
   "cell_type": "code",
   "execution_count": null,
   "metadata": {},
   "outputs": [],
   "source": []
  }
 ],
 "metadata": {
  "kernelspec": {
   "display_name": "Python 3",
   "language": "python",
   "name": "python3"
  },
  "language_info": {
   "codemirror_mode": {
    "name": "ipython",
    "version": 3
   },
   "file_extension": ".py",
   "mimetype": "text/x-python",
   "name": "python",
   "nbconvert_exporter": "python",
   "pygments_lexer": "ipython3",
   "version": "3.7.3"
  }
 },
 "nbformat": 4,
 "nbformat_minor": 4
}
