{
 "cells": [
  {
   "cell_type": "code",
   "execution_count": 1,
   "metadata": {},
   "outputs": [
    {
     "name": "stdout",
     "output_type": "stream",
     "text": [
      "ASCM2 Could not be found\n",
      "ASCM2 Could not be found\n",
      "ASCM2 Could not be found\n",
      "ASCM2 Could not be found\n"
     ]
    },
    {
     "data": {
      "text/plain": [
       "matrix([[-1110.04468284],\n",
       "        [-1110.53380707],\n",
       "        [-1110.53136463],\n",
       "        [-1110.53927668],\n",
       "        [-1110.53067516],\n",
       "        [-1110.54694434],\n",
       "        [-1110.52643795],\n",
       "        [-1110.52782986],\n",
       "        [-1110.26983179]])"
      ]
     },
     "execution_count": 1,
     "metadata": {},
     "output_type": "execute_result"
    }
   ],
   "source": [
    "from Net import Network\n",
    "from Level import Delta\n",
    "from LeastSquares import LS\n",
    "\n",
    "h_level = Delta()\n",
    "h_static = Delta(\"Static.txt\")\n",
    "#e_static = Delta(\"Static.txt\", \"Easting\", \"E\")\n",
    "#n_static = Delta(\"Static.txt\", \"Northing\", \"N\")\n",
    "h_def = Delta(\"Deformation.txt\", \"VD\", \"H\")\n",
    "\n",
    "models = [h_level, h_static, h_def]\n",
    "#Height LSA\n",
    "#remember to adjust to have the correct A matrix list and correct initial estimates\n",
    "n = Network(models)\n",
    "\n",
    "#final points\n",
    "#n.x_0 + n.S + n.c[0]\n",
    "\n",
    "#N and E LSA (linear only)\n",
    "#remember to adjust to have the correct A matrix list and correct initial estimates\n",
    "#models = [n_static, e_static]\n",
    "\n",
    "#N, E, H nonlinear\n",
    "#remember to adjust to have the correct A matrix list and correct initial estimates\n",
    "#models = [h_level, h_static, h_def, n_static, e_static]\n",
    "#n = Network(models = models)\n",
    "#n.P \n",
    "#pd.DataFrame(np_array).to_csv(\"path/to/file.csv\")\n",
    "n.S + n.x_0"
   ]
  },
  {
   "cell_type": "code",
   "execution_count": 1,
   "metadata": {},
   "outputs": [],
   "source": []
  },
  {
   "cell_type": "code",
   "execution_count": 2,
   "metadata": {},
   "outputs": [
    {
     "name": "stdout",
     "output_type": "stream",
     "text": [
      "C1 Could not be found\n",
      "C1 Could not be found\n",
      "C1 Could not be found\n",
      "C1 Could not be found\n",
      "C1 Could not be found\n",
      "C1 Could not be found\n",
      "C1 Could not be found\n",
      "C1 Could not be found\n",
      "C1 Could not be found\n",
      "C1 Could not be found\n",
      "C1 Could not be found\n",
      "C1 Could not be found\n",
      "C1 Could not be found\n",
      "C1 Could not be found\n",
      "C1 Could not be found\n",
      "C1 Could not be found\n",
      "C1 Could not be found\n",
      "C1 Could not be found\n",
      "C1 Could not be found\n",
      "C1 Could not be found\n",
      "C1 Could not be found\n",
      "C1 Could not be found\n",
      "C1 Could not be found\n",
      "C1 Could not be found\n",
      "C1 Could not be found\n",
      "C1 Could not be found\n",
      "C1 Could not be found\n",
      "C1 Could not be found\n",
      "C1 Could not be found\n",
      "C1 Could not be found\n",
      "C1 Could not be found\n",
      "C1 Could not be found\n",
      "1 Could not be found\n",
      "1 Could not be found\n",
      "1 Could not be found\n",
      "1 Could not be found\n",
      "C1 Could not be found\n",
      "C1 Could not be found\n",
      "C1 Could not be found\n",
      "C1 Could not be found\n",
      "C1 Could not be found\n",
      "C1 Could not be found\n",
      "C1 Could not be found\n",
      "C1 Could not be found\n",
      "C1 Could not be found\n",
      "C1 Could not be found\n",
      "C1 Could not be found\n",
      "C1 Could not be found\n",
      "C1 Could not be found\n",
      "C1 Could not be found\n",
      "C1 Could not be found\n",
      "C1 Could not be found\n",
      "C1 Could not be found\n",
      "C1 Could not be found\n",
      "C1 Could not be found\n",
      "C1 Could not be found\n",
      "C1 Could not be found\n",
      "C1 Could not be found\n",
      "C1 Could not be found\n",
      "C1 Could not be found\n",
      "C1 Could not be found\n",
      "C1 Could not be found\n",
      "C1 Could not be found\n",
      "C1 Could not be found\n",
      "C1 Could not be found\n",
      "C1 Could not be found\n",
      "C1 Could not be found\n",
      "C1 Could not be found\n",
      "C1 Could not be found\n",
      "C1 Could not be found\n",
      "C1 Could not be found\n",
      "C1 Could not be found\n",
      "ASCM1 Could not be found\n",
      "ASCM1 Could not be found\n",
      "ASCM1 Could not be found\n",
      "ASCM1 Could not be found\n",
      "ASCM1 Could not be found\n",
      "ASCM1 Could not be found\n",
      "ASCM1 Could not be found\n",
      "ASCM1 Could not be found\n",
      "ASCM1 Could not be found\n",
      "ASCM1 Could not be found\n",
      "ASCM1 Could not be found\n",
      "ASCM1 Could not be found\n",
      "C1 Could not be found\n",
      "C1 Could not be found\n",
      "C1 Could not be found\n",
      "C1 Could not be found\n",
      "C1 Could not be found\n",
      "C1 Could not be found\n",
      "C1 Could not be found\n",
      "C1 Could not be found\n",
      "C1 Could not be found\n",
      "C1 Could not be found\n",
      "C1 Could not be found\n",
      "C1 Could not be found\n",
      "ASCM1 Could not be found\n",
      "ASCM1 Could not be found\n",
      "ASCM1 Could not be found\n",
      "ASCM1 Could not be found\n",
      "ASCM1 Could not be found\n",
      "ASCM1 Could not be found\n",
      "ASCM1 Could not be found\n",
      "ASCM1 Could not be found\n",
      "ASCM1 Could not be found\n",
      "ASCM1 Could not be found\n",
      "ASCM1 Could not be found\n",
      "ASCM1 Could not be found\n",
      "ASCM1 Could not be found\n",
      "C1 Could not be found\n",
      "C1 Could not be found\n",
      "C1 Could not be found\n",
      "C1 Could not be found\n",
      "C1 Could not be found\n",
      "C1 Could not be found\n",
      "C1 Could not be found\n",
      "C1 Could not be found\n",
      "C1 Could not be found\n",
      "C1 Could not be found\n",
      "C1 Could not be found\n",
      "C1 Could not be found\n",
      "ASCM1 Could not be found\n",
      "C1 Could not be found\n",
      "C1 Could not be found\n",
      "C1 Could not be found\n",
      "C1 Could not be found\n",
      "C1 Could not be found\n",
      "C1 Could not be found\n",
      "C1 Could not be found\n",
      "C1 Could not be found\n",
      "C1 Could not be found\n",
      "C1 Could not be found\n",
      "C1 Could not be found\n",
      "C1 Could not be found\n",
      "C1 Could not be found\n",
      "C1 Could not be found\n",
      "C1 Could not be found\n",
      "C1 Could not be found\n",
      "C1 Could not be found\n",
      "C1 Could not be found\n",
      "C1 Could not be found\n",
      "C1 Could not be found\n",
      "C1 Could not be found\n",
      "C1 Could not be found\n",
      "C1 Could not be found\n",
      "C1 Could not be found\n"
     ]
    },
    {
     "data": {
      "text/plain": [
       "(87, 21)"
      ]
     },
     "execution_count": 2,
     "metadata": {},
     "output_type": "execute_result"
    }
   ],
   "source": [
    "from Direction import Horizontal_Direction\n",
    "from Net import Network\n",
    "from Level import Delta\n",
    "from LeastSquares import LS\n",
    "import math as m\n",
    "\n",
    "d = Horizontal_Direction()\n",
    "e_static = Delta(\"Static.txt\", \"Easting\", \"E\")\n",
    "n_static = Delta(\"Static.txt\", \"Northing\", \"N\")\n",
    "\n",
    "models = [e_static, n_static, d]\n",
    "n = Network(models = models)\n",
    "\n",
    "n.A.shape"
   ]
  },
  {
   "cell_type": "code",
   "execution_count": null,
   "metadata": {},
   "outputs": [],
   "source": []
  },
  {
   "cell_type": "code",
   "execution_count": 9,
   "metadata": {},
   "outputs": [
    {
     "data": {
      "text/plain": [
       "matrix([[-3.64510080e+22],\n",
       "        [-4.12722987e+22],\n",
       "        [-3.65411096e+22],\n",
       "        [-4.16044074e+22],\n",
       "        [-3.02371255e+22],\n",
       "        [-3.71715812e+22],\n",
       "        [-2.21436442e+23],\n",
       "        [-2.43941654e+23],\n",
       "        [-6.93847545e+21],\n",
       "        [-3.75207525e+22],\n",
       "        [-2.58659811e+22],\n",
       "        [-5.01029375e+22],\n",
       "        [-2.44979712e+37],\n",
       "        [-2.44979712e+37],\n",
       "        [-3.44718530e+22],\n",
       "        [-3.44718530e+22],\n",
       "        [ 5.40271448e+06]])"
      ]
     },
     "execution_count": 9,
     "metadata": {},
     "output_type": "execute_result"
    }
   ],
   "source": [
    "n.S + n.x_0"
   ]
  },
  {
   "cell_type": "code",
   "execution_count": null,
   "metadata": {},
   "outputs": [],
   "source": []
  },
  {
   "cell_type": "code",
   "execution_count": null,
   "metadata": {},
   "outputs": [],
   "source": []
  },
  {
   "cell_type": "code",
   "execution_count": 2,
   "metadata": {},
   "outputs": [
    {
     "data": {
      "text/plain": [
       "matrix([[ 1.11023400e+03, -9.90378000e+03,  5.65909825e+06]])"
      ]
     },
     "execution_count": 2,
     "metadata": {},
     "output_type": "execute_result"
    }
   ],
   "source": [
    "n.c"
   ]
  },
  {
   "cell_type": "code",
   "execution_count": 3,
   "metadata": {},
   "outputs": [
    {
     "data": {
      "text/plain": [
       "matrix([[ 6.10425507e+02],\n",
       "        [ 1.26117399e+03],\n",
       "        [ 2.55061929e+01],\n",
       "        [ 5.23910890e+02],\n",
       "        [ 1.32762864e+03],\n",
       "        [ 2.51106354e+01],\n",
       "        [-1.04176828e+01],\n",
       "        [ 6.57257447e+02],\n",
       "        [ 1.32256902e+03],\n",
       "        [ 1.14372332e+00],\n",
       "        [ 4.17799701e+02],\n",
       "        [ 1.30443054e+03],\n",
       "        [ 6.76324837e-01],\n",
       "        [ 4.09495291e+02],\n",
       "        [ 1.42031897e+03],\n",
       "        [ 1.97405566e+00],\n",
       "        [ 4.73248959e+02],\n",
       "        [ 1.41707677e+03],\n",
       "        [ 3.59856205e+00],\n",
       "        [ 2.54311701e+01],\n",
       "        [ 2.56171682e+01]])"
      ]
     },
     "execution_count": 3,
     "metadata": {},
     "output_type": "execute_result"
    }
   ],
   "source": [
    "n.x_0 + n.S"
   ]
  },
  {
   "cell_type": "code",
   "execution_count": 6,
   "metadata": {},
   "outputs": [
    {
     "data": {
      "text/plain": [
       "matrix([[    9902.52050701],\n",
       "        [-5659097.44300818],\n",
       "        [    9902.39188983],\n",
       "        [-5659097.59236266],\n",
       "        [    9902.4134468 ],\n",
       "        [-5659097.35198464],\n",
       "        [    9902.42370126],\n",
       "        [-5659097.78646438],\n",
       "        [    9902.21429088],\n",
       "        [-5659097.788033  ],\n",
       "        [    9902.24595867],\n",
       "        [-5659097.67522811]])"
      ]
     },
     "execution_count": 6,
     "metadata": {},
     "output_type": "execute_result"
    }
   ],
   "source": [
    "n.S"
   ]
  },
  {
   "cell_type": "code",
   "execution_count": 7,
   "metadata": {},
   "outputs": [
    {
     "data": {
      "text/plain": [
       "matrix([[5659708.67750701],\n",
       "        [5660359.42599182],\n",
       "        [5659622.16288983],\n",
       "        [5660425.88063734],\n",
       "        [5659755.5094468 ],\n",
       "        [5660420.82101536],\n",
       "        [5659516.05170126],\n",
       "        [5660402.68253562],\n",
       "        [5659507.74729089],\n",
       "        [5660518.570967  ],\n",
       "        [5659571.50095867],\n",
       "        [5660515.32877189]])"
      ]
     },
     "execution_count": 7,
     "metadata": {},
     "output_type": "execute_result"
    }
   ],
   "source": [
    "n.x_0 + n.S + n.c[0,2]"
   ]
  },
  {
   "cell_type": "code",
   "execution_count": 7,
   "metadata": {},
   "outputs": [
    {
     "data": {
      "text/plain": [
       "matrix([[ 1.11023400e+03, -9.90378000e+03,  5.65909825e+06]])"
      ]
     },
     "execution_count": 7,
     "metadata": {},
     "output_type": "execute_result"
    }
   ],
   "source": [
    "n.c"
   ]
  },
  {
   "cell_type": "code",
   "execution_count": 8,
   "metadata": {},
   "outputs": [
    {
     "data": {
      "text/plain": [
       "matrix([[ 0.,  0.,  0., ...,  1.,  0.,  0.],\n",
       "        [ 0.,  0.,  0., ..., -1.,  0.,  0.],\n",
       "        [ 0.,  0.,  0., ...,  0.,  0.,  0.],\n",
       "        ...,\n",
       "        [ 0.,  0.,  0., ...,  0.,  0.,  0.],\n",
       "        [ 0.,  0.,  0., ...,  0.,  0.,  0.],\n",
       "        [-1.,  0.,  0., ...,  0.,  0.,  0.]])"
      ]
     },
     "execution_count": 8,
     "metadata": {},
     "output_type": "execute_result"
    }
   ],
   "source": [
    "n.A"
   ]
  },
  {
   "cell_type": "code",
   "execution_count": 20,
   "metadata": {},
   "outputs": [],
   "source": []
  },
  {
   "cell_type": "code",
   "execution_count": 12,
   "metadata": {},
   "outputs": [
    {
     "data": {
      "text/plain": [
       "57.15651235032544"
      ]
     },
     "execution_count": 12,
     "metadata": {},
     "output_type": "execute_result"
    }
   ],
   "source": [
    "import numpy as np\n",
    "import math as m\n",
    "\n",
    "fro = np.array([-9484.624, 5660402.217])\n",
    "to = np.array([-9492.719, 5660518.107])\n",
    "\n",
    "north = np.array([0,1])\n",
    "\n",
    "r_v = to - fro\n",
    "\n",
    "np.dot(r_v / np.linalg.norm(r_v), north / np.linalg.norm(north))"
   ]
  },
  {
   "cell_type": "code",
   "execution_count": 5,
   "metadata": {},
   "outputs": [
    {
     "data": {
      "text/plain": [
       "array([1110.234])"
      ]
     },
     "execution_count": 5,
     "metadata": {},
     "output_type": "execute_result"
    }
   ],
   "source": [
    "np.array([1110.234)"
   ]
  },
  {
   "cell_type": "code",
   "execution_count": null,
   "metadata": {},
   "outputs": [],
   "source": []
  }
 ],
 "metadata": {
  "kernelspec": {
   "display_name": "Python 3",
   "language": "python",
   "name": "python3"
  },
  "language_info": {
   "codemirror_mode": {
    "name": "ipython",
    "version": 3
   },
   "file_extension": ".py",
   "mimetype": "text/x-python",
   "name": "python",
   "nbconvert_exporter": "python",
   "pygments_lexer": "ipython3",
   "version": "3.7.3"
  }
 },
 "nbformat": 4,
 "nbformat_minor": 4
}
