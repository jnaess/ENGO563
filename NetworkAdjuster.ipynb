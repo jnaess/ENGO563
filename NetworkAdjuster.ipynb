{
 "cells": [
  {
   "cell_type": "code",
   "execution_count": 1,
   "metadata": {},
   "outputs": [],
   "source": [
    "import math as m\n",
    "import numpy as np"
   ]
  },
  {
   "cell_type": "code",
   "execution_count": 13,
   "metadata": {},
   "outputs": [],
   "source": [
    "#level observations\n",
    "#[obs1, obs2, etc.]\n",
    "#format: from a to b\n",
    "class Point():\n",
    "    \"\"\"\n",
    "    \n",
    "    \"\"\"\n",
    "    def __init__(self, E, N, h, name):\n",
    "        \"\"\"\n",
    "        input:\n",
    "            E, easting (m)\n",
    "            N, northing (m)\n",
    "            h, height (m)\n",
    "            name, (string)\n",
    "        \"\"\"\n",
    "        self.E = E\n",
    "        self.N = N\n",
    "        self.h = h\n",
    "        self.name = name\n",
    "        \n",
    "class Func_Model():\n",
    "    \"\"\"\n",
    "        A functional model must contain functions for the partial derivatives of all of its member variables\n",
    "        Current partial derivative format:\n",
    "            [E1, N1, h1, E2, N2, h2, E3, N3, h3]\n",
    "    \"\"\"\n",
    "    \n",
    "    def __init__(self):\n",
    "        \"\"\"\n",
    "        \"\"\"\n",
    "        print(\"Funct_Model Initiated\")\n",
    "        \n",
    "    def partial(self):\n",
    "        \"\"\"\n",
    "        Desc:\n",
    "            uses the points' member variables to pick between observation and estimation. Then returns a numpy array\n",
    "        Input:\n",
    "            none\n",
    "        Returns:\n",
    "            numpy array \n",
    "            Current partial derivative format:\n",
    "                [E1, N1, h1, E2, N2, h2, E3, N3, h3]\n",
    "        \"\"\"\n",
    "        return np.array([0,0,0,0,0,0,0,0,0])\n",
    "    \n",
    "class Dist_Model(Func_Model):\n",
    "    \"\"\"\n",
    "        Distance Functional Model\n",
    "    \"\"\"\n",
    "    def __init__(self):\n",
    "        \"\"\"\n",
    "        \"\"\"\n",
    "        super().__init__()\n",
    "        print(\"Dist_Model Initiated\")\n",
    "        \n",
    "    def partial(self):\n",
    "        \"\"\"\n",
    "        \"\"\""
   ]
  },
  {
   "cell_type": "code",
   "execution_count": null,
   "metadata": {},
   "outputs": [],
   "source": []
  },
  {
   "cell_type": "code",
   "execution_count": 14,
   "metadata": {},
   "outputs": [
    {
     "name": "stdout",
     "output_type": "stream",
     "text": [
      "Funct_Model Initiated\n",
      "Dist_Model Initiated\n"
     ]
    }
   ],
   "source": [
    "test = Dist_Model()"
   ]
  },
  {
   "cell_type": "code",
   "execution_count": null,
   "metadata": {},
   "outputs": [],
   "source": []
  }
 ],
 "metadata": {
  "kernelspec": {
   "display_name": "Python 3",
   "language": "python",
   "name": "python3"
  },
  "language_info": {
   "codemirror_mode": {
    "name": "ipython",
    "version": 3
   },
   "file_extension": ".py",
   "mimetype": "text/x-python",
   "name": "python",
   "nbconvert_exporter": "python",
   "pygments_lexer": "ipython3",
   "version": "3.7.3"
  }
 },
 "nbformat": 4,
 "nbformat_minor": 4
}
